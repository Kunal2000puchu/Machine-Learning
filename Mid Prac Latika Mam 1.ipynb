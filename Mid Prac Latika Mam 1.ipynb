{
 "cells": [
  {
   "cell_type": "code",
   "execution_count": 72,
   "id": "0927680f",
   "metadata": {},
   "outputs": [],
   "source": [
    "import numpy as np\n",
    "import pandas as pd\n",
    "from sklearn.tree import DecisionTreeClassifier\n",
    "from sklearn.neighbors import KNeighborsClassifier\n",
    "from sklearn.datasets import load_iris\n",
    "from sklearn.metrics import accuracy_score\n",
    "from sklearn.model_selection import train_test_split\n",
    "import seaborn as sns\n",
    "from sklearn.metrics import confusion_matrix\n"
   ]
  },
  {
   "cell_type": "code",
   "execution_count": 73,
   "id": "5d070537",
   "metadata": {},
   "outputs": [],
   "source": [
    "iris = load_iris()\n"
   ]
  },
  {
   "cell_type": "code",
   "execution_count": 74,
   "id": "fc45d5cb",
   "metadata": {},
   "outputs": [],
   "source": [
    "features=iris.data\n",
    "target=iris.target\n"
   ]
  },
  {
   "cell_type": "code",
   "execution_count": 75,
   "id": "dee8143b",
   "metadata": {},
   "outputs": [],
   "source": [
    "X_train, X_test, y_train, y_test = train_test_split(features,target, random_state = 50, test_size = 0.50)\n"
   ]
  },
  {
   "cell_type": "code",
   "execution_count": 83,
   "id": "da533183",
   "metadata": {},
   "outputs": [
    {
     "name": "stdout",
     "output_type": "stream",
     "text": [
      "\n",
      "For Not Pruned model\n",
      "Train data accuracy: 1.0\n",
      "Test data accuracy: 0.9733333333333334\n",
      "[[25  0  0]\n",
      " [ 0 25  1]\n",
      " [ 0  1 23]]\n",
      "\n",
      "For Pruned model\n",
      "Train data accuracy: 0.9733333333333334\n",
      "Test data accuracy: 0.9733333333333334\n",
      "[[25  0  0]\n",
      " [ 0 25  1]\n",
      " [ 0  1 23]]\n"
     ]
    }
   ],
   "source": [
    "#for decision tree\n",
    "clf = DecisionTreeClassifier()\n",
    "clf.fit(X_train,y_train)\n",
    "clfP = DecisionTreeClassifier(criterion='entropy',max_depth=4,max_leaf_nodes= 5,min_samples_split= 10,splitter='best',\n",
    "                                random_state= 1)\n",
    "clfP.fit(X_train,y_train)\n",
    "\n",
    "print(\"\\nFor Not Pruned model\")\n",
    "predict = clf.predict(X_test)\n",
    "print(\"Train data accuracy:\",accuracy_score(y_true = y_train, y_pred=clf.predict(X_train)))\n",
    "print(\"Test data accuracy:\",accuracy_score(y_true = y_test, y_pred=predict))\n",
    "y_pred = clf.fit(X_train, y_train).predict(X_test)\n",
    "print(confusion_matrix(y_test, y_pred))\n",
    "\n",
    "\n",
    "\n",
    "\n",
    "\n",
    "print(\"\\nFor Pruned model\")\n",
    "prunedpredict = clfP.predict(X_test)\n",
    "print(\"Train data accuracy:\",accuracy_score(y_true = y_train, y_pred=clfP.predict(X_train)))\n",
    "print(\"Test data accuracy:\",accuracy_score(y_true = y_test, y_pred=predict))\n",
    "y_pred = clfP.fit(X_train, y_train).predict(X_test)\n",
    "print(confusion_matrix(y_test, y_pred))"
   ]
  },
  {
   "cell_type": "code",
   "execution_count": 85,
   "id": "03c501f4",
   "metadata": {},
   "outputs": [
    {
     "name": "stdout",
     "output_type": "stream",
     "text": [
      "\n",
      "for K = 3\n",
      "Train data accuracy: 0.96\n",
      "Test data accuracy: 0.96\n",
      "[[25  0  0]\n",
      " [ 0 23  3]\n",
      " [ 0  0 24]]\n",
      "\n",
      "for K = 4\n",
      "Train data accuracy: 0.96\n",
      "Test data accuracy: 0.9733333333333334\n",
      "[[25  0  0]\n",
      " [ 0 24  2]\n",
      " [ 0  0 24]]\n",
      "\n",
      "for K = 5\n",
      "Train data accuracy: 0.96\n",
      "Test data accuracy: 0.96\n",
      "[[25  0  0]\n",
      " [ 0 23  3]\n",
      " [ 0  0 24]]\n",
      "\n",
      "for K = 6\n",
      "Train data accuracy: 0.96\n",
      "Test data accuracy: 0.9733333333333334\n",
      "[[25  0  0]\n",
      " [ 0 24  2]\n",
      " [ 0  0 24]]\n"
     ]
    }
   ],
   "source": [
    "#for decision tree\n",
    "for i in range (3,7):\n",
    "    print(\"\\nfor K =\",i)\n",
    "    cltkn= KNeighborsClassifier(n_neighbors = i)\n",
    "    cltkn.fit(X_train,y_train)\n",
    "    \n",
    "    \n",
    "    predict = cltkn.predict(X_test)\n",
    "    print(\"Train data accuracy:\",accuracy_score(y_true = y_train, y_pred=cltkn.predict(X_train)))\n",
    "    print(\"Test data accuracy:\",accuracy_score(y_true = y_test, y_pred=predict))\n",
    "    y_pred = cltkn.fit(X_train, y_train).predict(X_test)\n",
    "    print(confusion_matrix(y_test, y_pred))\n",
    "    "
   ]
  },
  {
   "cell_type": "code",
   "execution_count": null,
   "id": "aa3eccb2",
   "metadata": {},
   "outputs": [],
   "source": []
  },
  {
   "cell_type": "code",
   "execution_count": null,
   "id": "1f9c059d",
   "metadata": {},
   "outputs": [],
   "source": []
  }
 ],
 "metadata": {
  "kernelspec": {
   "display_name": "Python 3 (ipykernel)",
   "language": "python",
   "name": "python3"
  },
  "language_info": {
   "codemirror_mode": {
    "name": "ipython",
    "version": 3
   },
   "file_extension": ".py",
   "mimetype": "text/x-python",
   "name": "python",
   "nbconvert_exporter": "python",
   "pygments_lexer": "ipython3",
   "version": "3.9.7"
  }
 },
 "nbformat": 4,
 "nbformat_minor": 5
}
